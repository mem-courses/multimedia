{
 "cells": [
  {
   "cell_type": "code",
   "execution_count": 4,
   "metadata": {},
   "outputs": [],
   "source": [
    "import os\n",
    "import sys\n",
    "import fitz\n",
    "\n",
    "from utils import merge_pdf\n"
   ]
  },
  {
   "cell_type": "code",
   "execution_count": 5,
   "metadata": {},
   "outputs": [],
   "source": [
    "source = os.path.abspath(os.path.join('..', 'assets', 'original'))\n",
    "target = os.path.abspath(os.path.join('..', 'assets', 'merged'))\n",
    "\n",
    "slides = [2]\n",
    "\n",
    "for slide_id in slides:\n",
    "    input_file = os.path.join(source, '%02d.pdf' % slide_id)\n",
    "    output_file = os.path.join(target, '%02d.pdf' % slide_id)\n",
    "    merge_pdf(input_file, output_file)\n"
   ]
  }
 ],
 "metadata": {
  "kernelspec": {
   "display_name": "Python 3",
   "language": "python",
   "name": "python3"
  },
  "language_info": {
   "codemirror_mode": {
    "name": "ipython",
    "version": 3
   },
   "file_extension": ".py",
   "mimetype": "text/x-python",
   "name": "python",
   "nbconvert_exporter": "python",
   "pygments_lexer": "ipython3",
   "version": "3.12.0"
  }
 },
 "nbformat": 4,
 "nbformat_minor": 2
}
