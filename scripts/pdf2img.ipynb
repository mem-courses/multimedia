{
 "cells": [
  {
   "cell_type": "code",
   "execution_count": 2,
   "metadata": {},
   "outputs": [],
   "source": [
    "\n",
    "import os\n",
    "import sys\n",
    "import fitz\n",
    "\n",
    "\n",
    "from utils import extract_images\n",
    "\n",
    "flatten = lambda x: [y for l in x for y in flatten(l)] if type(x) is list else [x]"
   ]
  },
  {
   "cell_type": "code",
   "execution_count": null,
   "metadata": {},
   "outputs": [],
   "source": [
    "\n",
    "source = os.path.abspath(os.path.join('..', 'assets'))\n",
    "target = os.path.abspath(os.path.join('..', 'public'))\n",
    "\n",
    "slides = [4, 5, 6, 9, 10]\n",
    "pdf_files = flatten([\n",
    "    ['merged/%02d.pdf' % slide, 'translated/%02d.pdf' % slide]\n",
    "    for slide in slides\n",
    "])\n",
    "print(pdf_files)\n",
    "\n",
    "for slide in pdf_files:\n",
    "    input_file = os.path.join(source, slide)\n",
    "    \n",
    "    folder_name = slide.replace('/', '-').replace('.pdf', '')\n",
    "    output_dir = os.path.join(target, folder_name)\n",
    "    \n",
    "    extract_images(input_file, output_dir, clip={\n",
    "        'up': 0.06,\n",
    "        'down': 0.122,\n",
    "        'left': 0.08,\n",
    "        'right': 0.08,\n",
    "    }, dpi=100)"
   ]
  },
  {
   "cell_type": "code",
   "execution_count": null,
   "metadata": {},
   "outputs": [],
   "source": [
    "SLIDE2X = '#slide2x([{page}], image(\"../public/merged-{slide0}/{page0}.jpg\"), image(\"../public/translated-{slide0}/{page0}.jpg\"))'\n",
    "\n",
    "for slide_id in slides:\n",
    "    dir1 = 'merged-%02d' % slide_id\n",
    "    dir2 = 'translated-%02d' % slide_id\n",
    "    dir1_imgs = os.path.join(target, dir1.replace('.pdf', ''))\n",
    "    dir2_imgs = os.path.join(target, dir2.replace('.pdf', ''))\n",
    "    num = max(\n",
    "        len(os.listdir(dir1_imgs)),\n",
    "        len(os.listdir(dir2_imgs)),\n",
    "    )\n",
    "    print(slide_id, 'num:', num)\n",
    "\n",
    "    output = ''\n",
    "    for i in range(1, num + 1):\n",
    "        output += SLIDE2X.format(\n",
    "            page=i,\n",
    "            slide=slide_id,\n",
    "            page0='%04d' % i,\n",
    "            slide0='%02d' % slide_id,\n",
    "        )\n",
    "        output += '\\n\\n'\n",
    "\n",
    "    output_file = os.path.join('../public', '%02d.txt' % slide_id)\n",
    "    with open(output_file, 'w+') as f:\n",
    "        f.write(output)\n",
    "        f.close()"
   ]
  }
 ],
 "metadata": {
  "kernelspec": {
   "display_name": "Python 3",
   "language": "python",
   "name": "python3"
  },
  "language_info": {
   "codemirror_mode": {
    "name": "ipython",
    "version": 3
   },
   "file_extension": ".py",
   "mimetype": "text/x-python",
   "name": "python",
   "nbconvert_exporter": "python",
   "pygments_lexer": "ipython3",
   "version": "3.12.0"
  }
 },
 "nbformat": 4,
 "nbformat_minor": 2
}
